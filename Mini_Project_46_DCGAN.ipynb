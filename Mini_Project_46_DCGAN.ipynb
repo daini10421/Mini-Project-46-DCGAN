{
  "metadata": {
    "kernelspec": {
      "language": "python",
      "display_name": "Python 3",
      "name": "python3"
    },
    "language_info": {
      "pygments_lexer": "ipython3",
      "nbconvert_exporter": "python",
      "version": "3.6.4",
      "file_extension": ".py",
      "codemirror_mode": {
        "name": "ipython",
        "version": 3
      },
      "name": "python",
      "mimetype": "text/x-python"
    },
    "colab": {
      "provenance": [],
      "include_colab_link": true
    }
  },
  "nbformat_minor": 0,
  "nbformat": 4,
  "cells": [
    {
      "cell_type": "markdown",
      "metadata": {
        "id": "view-in-github",
        "colab_type": "text"
      },
      "source": [
        "<a href=\"https://colab.research.google.com/github/daini10421/Mini-Project-46-DCGAN/blob/main/Mini_Project_46_DCGAN.ipynb\" target=\"_parent\"><img src=\"https://colab.research.google.com/assets/colab-badge.svg\" alt=\"Open In Colab\"/></a>"
      ]
    },
    {
      "cell_type": "markdown",
      "source": [
        "# Generative Adversarial Networks\n",
        "\n",
        "\n",
        "[Generative Adversarial Networks](https://arxiv.org/abs/1406.2661), are a type of computer program that can create new images or data. They consist of two main parts: a Generator and a Discriminator.\n",
        "\n",
        "The Generator's job is to create new images or data that look real. It starts by making random images or data, and then it gets feedback from the Discriminator. The Discriminator's job is to decide whether an image or data is real or fake. It looks at both real examples from a training set and the images or data created by the Generator. Based on this, it tries to guess whether each image or data is real or fake.\n",
        "\n",
        "The Generator and Discriminator are trained together, but they have opposite goals. The Generator wants to create images or data that the Discriminator will think are real, while the Discriminator wants to correctly identify which images or data are real and which are fake.\n",
        "\n",
        "During training, the Generator keeps improving its ability to create realistic images or data. It tries to fool the Discriminator by making its creations look as real as possible. The Discriminator, on the other hand, keeps getting better at distinguishing between real and fake examples.\n",
        "\n",
        "As training progresses, the Generator becomes so good at creating realistic images or data that the Discriminator can no longer tell the difference between real and fake. This means that the Generator has successfully learned to generate high-quality images or data that are similar to the ones it was trained on.\n",
        "\n",
        "![image.png](attachment:44e9c801-ca57-4d20-8692-ae18cc6751c2.png)"
      ],
      "metadata": {
        "id": "2MbKJY38Puy9"
      }
    },
    {
      "cell_type": "code",
      "source": [
        "from glob import glob\n",
        "from PIL import Image\n",
        "from IPython import display\n",
        "import tensorflow.keras as kr\n",
        "import tensorflow as tf\n",
        "import matplotlib.pyplot as plt\n",
        "import numpy as np\n",
        "import imageio\n",
        "import os"
      ],
      "metadata": {
        "id": "YfIk2es3hJEd",
        "execution": {
          "iopub.status.busy": "2023-07-05T02:45:41.130758Z",
          "iopub.execute_input": "2023-07-05T02:45:41.131018Z",
          "iopub.status.idle": "2023-07-05T02:45:42.124962Z",
          "shell.execute_reply.started": "2023-07-05T02:45:41.130966Z",
          "shell.execute_reply": "2023-07-05T02:45:42.124086Z"
        },
        "trusted": true
      },
      "execution_count": null,
      "outputs": []
    },
    {
      "cell_type": "code",
      "source": [
        "BATCH_SIZE = 128\n",
        "LATENT_DIM = 100\n",
        "SAMPLE_INTERVAL = 200\n",
        "EPOCHS = 10000"
      ],
      "metadata": {
        "id": "xSzYytsVd9Hf",
        "execution": {
          "iopub.status.busy": "2023-07-05T02:45:42.127448Z",
          "iopub.execute_input": "2023-07-05T02:45:42.128021Z",
          "iopub.status.idle": "2023-07-05T02:45:42.132319Z",
          "shell.execute_reply.started": "2023-07-05T02:45:42.12796Z",
          "shell.execute_reply": "2023-07-05T02:45:42.131521Z"
        },
        "trusted": true
      },
      "execution_count": null,
      "outputs": []
    },
    {
      "cell_type": "markdown",
      "source": [
        "**Utility Functions**"
      ],
      "metadata": {
        "id": "yv6y-Spcd9Hr"
      }
    },
    {
      "cell_type": "code",
      "source": [
        "def generate_gif(gif_name='mnist_gan.gif', pattern='image*.png'):\n",
        "    with imageio.get_writer(gif_name, mode='I') as writer:\n",
        "        filenames = glob(pattern)\n",
        "        filenames = sorted(filenames)\n",
        "        last = -1\n",
        "        for i,filename in enumerate(filenames):\n",
        "            frame = 2*(i**0.5)\n",
        "            if round(frame) > round(last):\n",
        "                last = frame\n",
        "            else:\n",
        "                continue\n",
        "            image = imageio.imread(filename)\n",
        "            writer.append_data(image)\n",
        "\n",
        "        image = imageio.imread(filename)\n",
        "        writer.append_data(image)\n",
        "\n",
        "    # this is a hack to display the gif inside the notebook\n",
        "    os.system('cp {} {}.png'.format(gif_name, gif_name))"
      ],
      "metadata": {
        "id": "QqMtD4jpd9Hu",
        "execution": {
          "iopub.status.busy": "2023-07-05T02:45:42.133813Z",
          "iopub.execute_input": "2023-07-05T02:45:42.134368Z",
          "iopub.status.idle": "2023-07-05T02:45:42.142364Z",
          "shell.execute_reply.started": "2023-07-05T02:45:42.134316Z",
          "shell.execute_reply": "2023-07-05T02:45:42.141455Z"
        },
        "trusted": true
      },
      "execution_count": null,
      "outputs": []
    },
    {
      "cell_type": "code",
      "source": [
        "def sample_images(generator, epoch, save=True, name='mnist'):\n",
        "    \"\"\" Sample images from generator, plot them and save as png\"\"\"\n",
        "\n",
        "    noise = np.random.normal(size=(5 * 5, LATENT_DIM))\n",
        "    gen_imgs = generator.predict(noise)\n",
        "    gen_imgs = 0.5 * gen_imgs + 0.5     # Rescale images 0-1\n",
        "\n",
        "    fig, axs = plt.subplots(5, 5)\n",
        "    c = 0\n",
        "    for i in range(5):\n",
        "        for j in range(5):\n",
        "            axs[i,j].imshow(gen_imgs[c, :,:,0], cmap='gray')\n",
        "            axs[i,j].axis('off')\n",
        "            c += 1\n",
        "\n",
        "    if save:\n",
        "        fig.savefig(\"{}_{}.png\".format(name, epoch))\n",
        "        plt.close()\n",
        "    else:\n",
        "        plt.show()"
      ],
      "metadata": {
        "id": "vjZv8b1Ud9H4",
        "execution": {
          "iopub.status.busy": "2023-07-05T02:45:42.143783Z",
          "iopub.execute_input": "2023-07-05T02:45:42.144348Z",
          "iopub.status.idle": "2023-07-05T02:45:42.152716Z",
          "shell.execute_reply.started": "2023-07-05T02:45:42.144026Z",
          "shell.execute_reply": "2023-07-05T02:45:42.151639Z"
        },
        "trusted": true
      },
      "execution_count": null,
      "outputs": []
    },
    {
      "cell_type": "markdown",
      "source": [
        "### Starting with MNIST\n",
        "\n",
        "We are going start with MNIST dataset to train the generator and the discriminator. The generator will generate handwritten digits resembling the MNIST data."
      ],
      "metadata": {
        "id": "iYn4MdZnKCey"
      }
    },
    {
      "cell_type": "code",
      "source": [
        "(X, _), (_, _) = kr.datasets.mnist.load_data()\n",
        "\n",
        "X = X.reshape(X.shape[0], 28, 28, 1).astype('float32')\n",
        "X = (X - 127.5) / 127.5 # Normalize the images to [-1, 1]"
      ],
      "metadata": {
        "id": "NFC2ghIdiZYE",
        "execution": {
          "iopub.status.busy": "2023-07-05T02:45:42.1542Z",
          "iopub.execute_input": "2023-07-05T02:45:42.154849Z",
          "iopub.status.idle": "2023-07-05T02:45:44.495799Z",
          "shell.execute_reply.started": "2023-07-05T02:45:42.154489Z",
          "shell.execute_reply": "2023-07-05T02:45:44.494895Z"
        },
        "trusted": true
      },
      "execution_count": null,
      "outputs": []
    },
    {
      "cell_type": "markdown",
      "source": [
        "### The Generator Model\n",
        "\n",
        "The generator will try to create images that are good enough to fool the discriminator. First, we are going to start with a simple model - with Dense layers -."
      ],
      "metadata": {
        "id": "XoGgYQaQd9IN"
      }
    },
    {
      "cell_type": "code",
      "source": [
        "def build_generator(output_shape=(28, 28, 1)):\n",
        "    model = kr.Sequential(name='generator')\n",
        "\n",
        "    model.add(kr.layers.Dense(256, input_shape=(LATENT_DIM, )))\n",
        "    model.add(kr.layers.LeakyReLU(alpha=0.2))\n",
        "    model.add(kr.layers.BatchNormalization(momentum=0.8))\n",
        "\n",
        "    model.add(kr.layers.Dense(512))\n",
        "    model.add(kr.layers.LeakyReLU(alpha=0.2))\n",
        "    model.add(kr.layers.BatchNormalization(momentum=0.8))\n",
        "\n",
        "    model.add(kr.layers.Dense(1024))\n",
        "    model.add(kr.layers.LeakyReLU(alpha=0.2))\n",
        "    model.add(kr.layers.BatchNormalization(momentum=0.8))\n",
        "\n",
        "    model.add(kr.layers.Dense(np.prod(output_shape), activation='tanh'))\n",
        "    model.add(kr.layers.Reshape(output_shape))\n",
        "\n",
        "    return model\n",
        "\n",
        "\n",
        "generator = build_generator()\n",
        "generator.summary()"
      ],
      "metadata": {
        "id": "IUdGOqIAd9IR",
        "execution": {
          "iopub.status.busy": "2023-07-05T02:45:44.497067Z",
          "iopub.execute_input": "2023-07-05T02:45:44.497362Z",
          "iopub.status.idle": "2023-07-05T02:45:44.828359Z",
          "shell.execute_reply.started": "2023-07-05T02:45:44.497312Z",
          "shell.execute_reply": "2023-07-05T02:45:44.827566Z"
        },
        "trusted": true
      },
      "execution_count": null,
      "outputs": []
    },
    {
      "cell_type": "markdown",
      "source": [
        "### The Discriminator model\n",
        "\n",
        "The discriminator will try to distinguish fake images from real images."
      ],
      "metadata": {
        "id": "DUdqzJ8Id9Ic"
      }
    },
    {
      "cell_type": "code",
      "source": [
        "def build_discriminator(input_shape=(28, 28, 1)):\n",
        "    model = kr.Sequential(name='discriminator')\n",
        "\n",
        "    model.add(kr.layers.Flatten(input_shape=input_shape))\n",
        "    model.add(kr.layers.Dense(512))\n",
        "    model.add(kr.layers.LeakyReLU(alpha=0.2))\n",
        "\n",
        "    model.add(kr.layers.Dense(256))\n",
        "    model.add(kr.layers.LeakyReLU(alpha=0.2))\n",
        "\n",
        "    model.add(kr.layers.Dense(1, activation='sigmoid'))\n",
        "\n",
        "    return model\n",
        "\n",
        "\n",
        "discriminator = build_discriminator()\n",
        "discriminator.summary()"
      ],
      "metadata": {
        "id": "DfIJVffJd9Ie",
        "execution": {
          "iopub.status.busy": "2023-07-05T02:45:44.829624Z",
          "iopub.execute_input": "2023-07-05T02:45:44.829916Z",
          "iopub.status.idle": "2023-07-05T02:45:44.905918Z",
          "shell.execute_reply.started": "2023-07-05T02:45:44.829867Z",
          "shell.execute_reply": "2023-07-05T02:45:44.905273Z"
        },
        "trusted": true
      },
      "execution_count": null,
      "outputs": []
    },
    {
      "cell_type": "code",
      "source": [
        "optimizer = kr.optimizers.Adam(0.0002, 0.5)\n",
        "\n",
        "discriminator.compile(loss='binary_crossentropy', optimizer=optimizer,  metrics=['acc'])\n",
        "discriminator.trainable = False    # For GAN we will only train the generator\n",
        "\n",
        "z = kr.Input(shape=(LATENT_DIM,))\n",
        "valid = discriminator(generator(z))\n",
        "\n",
        "model = kr.Model(z, valid)\n",
        "model.compile(loss='binary_crossentropy', optimizer=optimizer)\n",
        "model.summary()"
      ],
      "metadata": {
        "id": "KJLdRQNHd9Im",
        "execution": {
          "iopub.status.busy": "2023-07-05T02:45:44.907135Z",
          "iopub.execute_input": "2023-07-05T02:45:44.907433Z",
          "iopub.status.idle": "2023-07-05T02:45:45.287801Z",
          "shell.execute_reply.started": "2023-07-05T02:45:44.907369Z",
          "shell.execute_reply": "2023-07-05T02:45:45.28706Z"
        },
        "trusted": true
      },
      "execution_count": null,
      "outputs": []
    },
    {
      "cell_type": "code",
      "source": [
        "# Adversarial ground truths\n",
        "valid_labels = np.ones((BATCH_SIZE, 1))\n",
        "fake_labels = np.zeros((BATCH_SIZE, 1))\n",
        "\n",
        "for epoch in range(EPOCHS):\n",
        "    noise = np.random.normal(size=(BATCH_SIZE, LATENT_DIM))\n",
        "\n",
        "    # Shuffle and batch data\n",
        "    imgs = X[np.random.randint(0, X.shape[0], BATCH_SIZE)]\n",
        "\n",
        "    loss_real = discriminator.train_on_batch(imgs, valid_labels)\n",
        "    loss_fake = discriminator.train_on_batch(generator.predict(noise), fake_labels)\n",
        "    d_loss, d_acc = 0.5 * np.add(loss_real, loss_fake)\n",
        "\n",
        "    noise = np.random.normal(size=(BATCH_SIZE, LATENT_DIM))\n",
        "    g_loss = model.train_on_batch(noise, valid_labels)\n",
        "    display.clear_output(wait=True)\n",
        "    print (\"Epoch : %d [D loss: %f, acc.: %.2f%%] [G loss: %f]\" % (epoch, d_loss, 100*d_acc, g_loss))\n",
        "\n",
        "    # If at save interval => save generated image samples\n",
        "    if epoch % SAMPLE_INTERVAL == 0:\n",
        "        sample_images(generator, epoch, name='../working/mnist')"
      ],
      "metadata": {
        "id": "Z0wn69SWd9I2",
        "execution": {
          "iopub.status.busy": "2023-07-05T02:45:45.290512Z",
          "iopub.execute_input": "2023-07-05T02:45:45.290802Z",
          "iopub.status.idle": "2023-07-05T02:50:33.389363Z",
          "shell.execute_reply.started": "2023-07-05T02:45:45.290753Z",
          "shell.execute_reply": "2023-07-05T02:50:33.388452Z"
        },
        "trusted": true
      },
      "execution_count": null,
      "outputs": []
    },
    {
      "cell_type": "code",
      "source": [
        "sample_images(generator, None, save=False)"
      ],
      "metadata": {
        "id": "DXh66ULQd9I-",
        "execution": {
          "iopub.status.busy": "2023-07-05T02:50:33.390655Z",
          "iopub.execute_input": "2023-07-05T02:50:33.390951Z",
          "iopub.status.idle": "2023-07-05T02:50:34.670617Z",
          "shell.execute_reply.started": "2023-07-05T02:50:33.390902Z",
          "shell.execute_reply": "2023-07-05T02:50:34.669867Z"
        },
        "trusted": true
      },
      "execution_count": null,
      "outputs": []
    },
    {
      "cell_type": "code",
      "source": [
        "generate_gif(gif_name='../working/mnist_gan.gif', pattern='../working/mnist*.png')\n",
        "display.Image(filename=\"../working/mnist_gan.gif.png\")"
      ],
      "metadata": {
        "id": "IDVQmrpHd9JF",
        "execution": {
          "iopub.status.busy": "2023-07-05T02:50:34.671954Z",
          "iopub.execute_input": "2023-07-05T02:50:34.672242Z",
          "iopub.status.idle": "2023-07-05T02:50:34.987758Z",
          "shell.execute_reply.started": "2023-07-05T02:50:34.67219Z",
          "shell.execute_reply": "2023-07-05T02:50:34.986498Z"
        },
        "trusted": true
      },
      "execution_count": null,
      "outputs": []
    },
    {
      "cell_type": "markdown",
      "source": [
        "It doesn't look bad for a starter model, does it?."
      ],
      "metadata": {
        "id": "qKq3agV4d9JM"
      }
    },
    {
      "cell_type": "markdown",
      "source": [
        "## DC-GAN with Fashion MNIST\n",
        "\n",
        "Now, let's change our data to Fashion MNIST to generate clothes meanwhile using the Deep Convolutional GAN model."
      ],
      "metadata": {
        "id": "OqhDxtQvd9JP"
      }
    },
    {
      "cell_type": "code",
      "source": [
        "(X, _), (_, _) = kr.datasets.fashion_mnist.load_data()\n",
        "\n",
        "X = X.reshape(X.shape[0], 28, 28, 1).astype('float32')\n",
        "X = (X - 127.5) / 127.5 # Normalize the images to [-1, 1]"
      ],
      "metadata": {
        "id": "3es9LJjLd9JS",
        "execution": {
          "iopub.status.busy": "2023-07-05T02:50:34.989Z",
          "iopub.execute_input": "2023-07-05T02:50:34.989279Z",
          "iopub.status.idle": "2023-07-05T02:50:39.998488Z",
          "shell.execute_reply.started": "2023-07-05T02:50:34.989235Z",
          "shell.execute_reply": "2023-07-05T02:50:39.99758Z"
        },
        "trusted": true
      },
      "execution_count": null,
      "outputs": []
    },
    {
      "cell_type": "markdown",
      "source": [
        "### The Generator Model"
      ],
      "metadata": {
        "id": "-tEyxE-GMC48"
      }
    },
    {
      "cell_type": "code",
      "source": [
        "def generator_model():\n",
        "    model = kr.Sequential()\n",
        "\n",
        "    model.add(kr.layers.Dense(7 * 7 * 128, activation=\"relu\", input_shape=(LATENT_DIM,)))\n",
        "    model.add(kr.layers.Reshape((7, 7, 128)))\n",
        "\n",
        "    model.add(kr.layers.UpSampling2D())\n",
        "    model.add(kr.layers.Conv2D(128, (3, 3), padding='same'))\n",
        "    model.add(kr.layers.BatchNormalization(momentum=0.8))\n",
        "    model.add(kr.layers.ReLU())\n",
        "\n",
        "    model.add(kr.layers.UpSampling2D())\n",
        "    model.add(kr.layers.Conv2D(64, (3, 3), padding='same'))\n",
        "    model.add(kr.layers.BatchNormalization(momentum=0.8))\n",
        "    model.add(kr.layers.ReLU())\n",
        "\n",
        "    model.add(kr.layers.Conv2D(1, (3, 3), padding='same', activation='tanh'))\n",
        "\n",
        "    return model\n",
        "\n",
        "\n",
        "generator = generator_model()\n",
        "generator.summary()"
      ],
      "metadata": {
        "id": "6bpTcDqoLWjY",
        "execution": {
          "iopub.status.busy": "2023-07-05T02:50:40.000047Z",
          "iopub.execute_input": "2023-07-05T02:50:40.001488Z",
          "iopub.status.idle": "2023-07-05T02:50:40.230709Z",
          "shell.execute_reply.started": "2023-07-05T02:50:40.000324Z",
          "shell.execute_reply": "2023-07-05T02:50:40.229971Z"
        },
        "trusted": true
      },
      "execution_count": null,
      "outputs": []
    },
    {
      "cell_type": "markdown",
      "source": [
        "### The Discriminator model\n",
        "\n",
        "It's similar to a regular CNN-based image classifier."
      ],
      "metadata": {
        "id": "D0IKnaCtg6WE"
      }
    },
    {
      "cell_type": "code",
      "source": [
        "def discriminator_model():\n",
        "    model = kr.Sequential()\n",
        "\n",
        "    model.add(kr.layers.Conv2D(32, (3, 3), strides=(2, 2), padding='same', input_shape=(28, 28, 1)))\n",
        "    model.add(kr.layers.LeakyReLU(alpha=0.2))\n",
        "    model.add(kr.layers.Dropout(0.25))\n",
        "\n",
        "    model.add(kr.layers.Conv2D(64, (3, 3), strides=(2, 2), padding='same'))\n",
        "    # model.add(kr.layers.ZeroPadding2D(padding=((0,1),(0,1))))\n",
        "    model.add(kr.layers.BatchNormalization(momentum=0.8))\n",
        "    model.add(kr.layers.LeakyReLU(alpha=0.2))\n",
        "    model.add(kr.layers.Dropout(0.25))\n",
        "\n",
        "    model.add(kr.layers.Conv2D(128, (3, 3), strides=(2, 2), padding='same'))\n",
        "    model.add(kr.layers.BatchNormalization(momentum=0.8))\n",
        "    model.add(kr.layers.LeakyReLU(alpha=0.2))\n",
        "    model.add(kr.layers.Dropout(0.25))\n",
        "\n",
        "    model.add(kr.layers.Conv2D(256, (3, 3), strides=(2, 2), padding='same'))\n",
        "    model.add(kr.layers.BatchNormalization(momentum=0.8))\n",
        "    model.add(kr.layers.LeakyReLU(alpha=0.2))\n",
        "    model.add(kr.layers.Dropout(0.25))\n",
        "\n",
        "    model.add(kr.layers.Flatten())\n",
        "    model.add(kr.layers.Dense(1, activation='sigmoid'))\n",
        "\n",
        "    return model\n",
        "\n",
        "\n",
        "discriminator = discriminator_model()\n",
        "discriminator.summary()"
      ],
      "metadata": {
        "id": "dw2tPLmk2pEP",
        "execution": {
          "iopub.status.busy": "2023-07-05T02:50:40.232031Z",
          "iopub.execute_input": "2023-07-05T02:50:40.232318Z",
          "iopub.status.idle": "2023-07-05T02:50:40.590506Z",
          "shell.execute_reply.started": "2023-07-05T02:50:40.232268Z",
          "shell.execute_reply": "2023-07-05T02:50:40.58979Z"
        },
        "trusted": true
      },
      "execution_count": null,
      "outputs": []
    },
    {
      "cell_type": "markdown",
      "source": [
        "**Compile our DC-GAN Model**"
      ],
      "metadata": {
        "id": "Aak4cIMYd9Js"
      }
    },
    {
      "cell_type": "code",
      "source": [
        "optimizer = kr.optimizers.Adam(0.0002, 0.5)\n",
        "\n",
        "discriminator.compile(loss='binary_crossentropy', optimizer=optimizer,  metrics=['acc'])\n",
        "discriminator.trainable = False    # For GAN we will only train the generator\n",
        "\n",
        "z = kr.Input(shape=(LATENT_DIM,))\n",
        "valid = discriminator(generator(z))\n",
        "\n",
        "model = kr.Model(z, valid)\n",
        "model.compile(loss='binary_crossentropy', optimizer=optimizer)\n",
        "model.summary()"
      ],
      "metadata": {
        "id": "kwTx7Csxd9Jv",
        "execution": {
          "iopub.status.busy": "2023-07-05T02:50:40.592107Z",
          "iopub.execute_input": "2023-07-05T02:50:40.59265Z",
          "iopub.status.idle": "2023-07-05T02:50:41.09673Z",
          "shell.execute_reply.started": "2023-07-05T02:50:40.592406Z",
          "shell.execute_reply": "2023-07-05T02:50:41.095807Z"
        },
        "trusted": true
      },
      "execution_count": null,
      "outputs": []
    },
    {
      "cell_type": "code",
      "source": [
        "# Adversarial ground truths\n",
        "valid_labels = np.ones((BATCH_SIZE, 1))\n",
        "fake_labels = np.zeros((BATCH_SIZE, 1))\n",
        "\n",
        "for epoch in range(EPOCHS):\n",
        "    noise = np.random.normal(size=(BATCH_SIZE, LATENT_DIM))\n",
        "\n",
        "    # Shuffle and batch data\n",
        "    imgs = X[np.random.randint(0, X.shape[0], BATCH_SIZE)]\n",
        "\n",
        "    loss_real = discriminator.train_on_batch(imgs, valid_labels)\n",
        "    loss_fake = discriminator.train_on_batch(generator.predict(noise), fake_labels)\n",
        "    d_loss, d_acc = 0.5 * np.add(loss_real, loss_fake)\n",
        "\n",
        "    noise = np.random.normal(size=(BATCH_SIZE, LATENT_DIM))\n",
        "    g_loss = model.train_on_batch(noise, valid_labels)\n",
        "    display.clear_output(wait=True)\n",
        "    print (\"Epoch : %d [D loss: %f, acc.: %.2f%%] [G loss: %f]\" % (epoch, d_loss, 100*d_acc, g_loss))\n",
        "\n",
        "    # If at save interval => save generated image samples\n",
        "    if epoch % SAMPLE_INTERVAL == 0:\n",
        "        sample_images(generator, epoch, name='../working/fmnist')"
      ],
      "metadata": {
        "id": "jbp7DEl3d9J3",
        "execution": {
          "iopub.status.busy": "2023-07-05T02:50:41.098207Z",
          "iopub.execute_input": "2023-07-05T02:50:41.098522Z",
          "iopub.status.idle": "2023-07-05T02:59:23.662372Z",
          "shell.execute_reply.started": "2023-07-05T02:50:41.09847Z",
          "shell.execute_reply": "2023-07-05T02:59:23.661575Z"
        },
        "trusted": true
      },
      "execution_count": null,
      "outputs": []
    },
    {
      "cell_type": "code",
      "source": [
        "sample_images(generator, None, save=False, name='../working/fmnist')"
      ],
      "metadata": {
        "id": "BRxBKX30d9J8",
        "execution": {
          "iopub.status.busy": "2023-07-05T02:59:23.663706Z",
          "iopub.execute_input": "2023-07-05T02:59:23.66419Z",
          "iopub.status.idle": "2023-07-05T02:59:24.954079Z",
          "shell.execute_reply.started": "2023-07-05T02:59:23.664125Z",
          "shell.execute_reply": "2023-07-05T02:59:24.953324Z"
        },
        "trusted": true
      },
      "execution_count": null,
      "outputs": []
    },
    {
      "cell_type": "code",
      "source": [
        "generate_gif(gif_name='../working/fmnist_gan.gif', pattern='../working/fmnist*.png')\n",
        "display.Image(filename=\"../working/fmnist_gan.gif.png\")"
      ],
      "metadata": {
        "id": "lvR0CkqSd9KD",
        "execution": {
          "iopub.status.busy": "2023-07-05T02:59:24.95552Z",
          "iopub.execute_input": "2023-07-05T02:59:24.956042Z",
          "iopub.status.idle": "2023-07-05T02:59:25.259426Z",
          "shell.execute_reply.started": "2023-07-05T02:59:24.95599Z",
          "shell.execute_reply": "2023-07-05T02:59:25.258559Z"
        },
        "trusted": true
      },
      "execution_count": null,
      "outputs": []
    },
    {
      "cell_type": "markdown",
      "source": [
        "## End\n",
        "\n",
        "I would like to mention that training GAN is really hard as they are so sensetive to hyperparameters. Sometimes it is possible that the generation loss will became 0 and discriminator loss will keep increasing. Before starting to train a model of your own, it may save your time to find a proven to be working models. Lastly, don't forget to upvote if you like my kernel!"
      ],
      "metadata": {
        "id": "meKcYS-RtX0g"
      }
    },
    {
      "cell_type": "code",
      "source": [],
      "metadata": {
        "trusted": true,
        "id": "6oHaOaf-tX0g"
      },
      "execution_count": null,
      "outputs": []
    }
  ]
}